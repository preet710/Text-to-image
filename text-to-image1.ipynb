pip install diffusers transformers accelerate torch
import torch
from diffusers import StableDiffusionPipeline

def generate_image(prompt, output_path="output.png"):
    # Model identifier: change to your preferred stable diffusion model if desired.
    model_id = "CompVis/stable-diffusion-v1-4"
    
    # Check if CUDA (GPU) is available, otherwise fall back to CPU.
    device = "cuda" if torch.cuda.is_available() else "cpu"
    
    # Load the stable diffusion pipeline with appropriate precision.
    pipe = StableDiffusionPipeline.from_pretrained(
        model_id, 
        torch_dtype=torch.float16 if device == "cuda" else torch.float32
    )
    pipe = pipe.to(device)
    
    # Generate the image from the given text prompt.
    # Using torch.autocast for performance optimization when running on GPU.
    with torch.autocast(device):
        result = pipe(prompt)
    
    # Retrieve the first generated image.
    image = result.images[0]
    
    # Save the output image to the specified path.
    image.save(output_path)
    print(f"Image saved as {output_path}")

if __name__ == "__main__":
    # Example prompt.
    prompt_text = "A beautiful landscape with mountains and a river, in a fantasy style"
    generate_image(prompt_text)
