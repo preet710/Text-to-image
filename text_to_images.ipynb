 %pip install --quiet --upgrade diffusers transformers accelerate␣
↪invisible_watermark mediapy
[2]:use_refiner = False

[3]: import mediapy as media
import random 
import sys 
import torch

from diffusers import DiffusionPipeline

pipe = DiffusionPipeline.from_pretrained( 
"stabilityai/stable-diffusion-xl-base-1.0",
torch_dtype=torch.float16, 
use_safetensors=True, 
variant="fp16",)

if use_refiner:
refiner = DiffusionPipeline.from
"stabilityai/stable-diffusion 
text_encoder_2=pipe.text 
vae=pipe.vae,
torch_dtype=torch.float16 
use_safetensors=True,
variant="fp16",
)

refiner = refiner.to("cuda")

pipe.enable_model_cpu_offload 
else:
pipe = pipe.to("cuda")
